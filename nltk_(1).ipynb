{
  "nbformat": 4,
  "nbformat_minor": 0,
  "metadata": {
    "colab": {
      "name": "nltk (1).ipynb",
      "provenance": [],
      "collapsed_sections": []
    },
    "kernelspec": {
      "name": "python3",
      "display_name": "Python 3"
    },
    "language_info": {
      "name": "python"
    }
  },
  "cells": [
    {
      "cell_type": "code",
      "execution_count": 21,
      "metadata": {
        "id": "uqWsiPJy8caB"
      },
      "outputs": [],
      "source": [
        "import pandas as pd\n",
        "import numpy as np\n",
        "data = pd.read_csv(\"/content/Tweets.csv\")\n",
        "df=data.head(20)"
      ]
    },
    {
      "cell_type": "code",
      "source": [
        "import re\n",
        "lists = df[\"text\"].tolist()\n",
        "lists"
      ],
      "metadata": {
        "colab": {
          "base_uri": "https://localhost:8080/"
        },
        "id": "xIZkV47pCL5P",
        "outputId": "c44b359a-ae10-494d-cd83-389522b4a681"
      },
      "execution_count": 6,
      "outputs": [
        {
          "output_type": "execute_result",
          "data": {
            "text/plain": [
              "['@VirginAmerica What @dhepburn said.',\n",
              " \"@VirginAmerica plus you've added commercials to the experience... tacky.\",\n",
              " \"@VirginAmerica I didn't today... Must mean I need to take another trip!\",\n",
              " '@VirginAmerica it\\'s really aggressive to blast obnoxious \"entertainment\" in your guests\\' faces &amp; they have little recourse',\n",
              " \"@VirginAmerica and it's a really big bad thing about it\",\n",
              " \"@VirginAmerica seriously would pay $30 a flight for seats that didn't have this playing.\\nit's really the only bad thing about flying VA\",\n",
              " '@VirginAmerica yes, nearly every time I fly VX this “ear worm” won’t go away :)',\n",
              " '@VirginAmerica Really missed a prime opportunity for Men Without Hats parody, there. https://t.co/mWpG7grEZP',\n",
              " \"@virginamerica Well, I didn't…but NOW I DO! :-D\",\n",
              " \"@VirginAmerica it was amazing, and arrived an hour early. You're too good to me.\",\n",
              " '@VirginAmerica did you know that suicide is the second leading cause of death among teens 10-24',\n",
              " '@VirginAmerica I &lt;3 pretty graphics. so much better than minimal iconography. :D',\n",
              " \"@VirginAmerica This is such a great deal! Already thinking about my 2nd trip to @Australia &amp; I haven't even gone on my 1st trip yet! ;p\",\n",
              " \"@VirginAmerica @virginmedia I'm flying your #fabulous #Seductive skies again! U take all the #stress away from travel http://t.co/ahlXHhKiyn\",\n",
              " '@VirginAmerica Thanks!',\n",
              " '@VirginAmerica SFO-PDX schedule is still MIA.',\n",
              " \"@VirginAmerica So excited for my first cross country flight LAX to MCO I've heard nothing but great things about Virgin America. #29DaysToGo\",\n",
              " \"@VirginAmerica  I flew from NYC to SFO last week and couldn't fully sit in my seat due to two large gentleman on either side of me. HELP!\",\n",
              " 'I ❤️ flying @VirginAmerica. ☺️👍',\n",
              " '@VirginAmerica you know what would be amazingly awesome? BOS-FLL PLEASE!!!!!!! I want to fly with only you.']"
            ]
          },
          "metadata": {},
          "execution_count": 6
        }
      ]
    },
    {
      "cell_type": "code",
      "source": [
        "wo_stopwords = []\n",
        "for i in lists:\n",
        "  stri = re.sub(r'[@|?|$|.|!|\\'|,|(|)|\"|-]',r\"\",i)\n",
        "  wo_stopwords.append(stri)\n",
        "\n",
        "print(wo_stopwords)"
      ],
      "metadata": {
        "colab": {
          "base_uri": "https://localhost:8080/"
        },
        "id": "gqIJG265MiSt",
        "outputId": "3e62c026-ee58-4590-834f-d0ae9ba79016"
      },
      "execution_count": 7,
      "outputs": [
        {
          "output_type": "stream",
          "name": "stdout",
          "text": [
            "['VirginAmerica What dhepburn said', 'VirginAmerica plus youve added commercials to the experience tacky', 'VirginAmerica I didnt today Must mean I need to take another trip', 'VirginAmerica its really aggressive to blast obnoxious entertainment in your guests faces &amp; they have little recourse', 'VirginAmerica and its a really big bad thing about it', 'VirginAmerica seriously would pay 30 a flight for seats that didnt have this playing\\nits really the only bad thing about flying VA', 'VirginAmerica yes nearly every time I fly VX this “ear worm” won’t go away :', 'VirginAmerica Really missed a prime opportunity for Men Without Hats parody there https://tco/mWpG7grEZP', 'virginamerica Well I didnt…but NOW I DO :D', 'VirginAmerica it was amazing and arrived an hour early Youre too good to me', 'VirginAmerica did you know that suicide is the second leading cause of death among teens 1024', 'VirginAmerica I &lt;3 pretty graphics so much better than minimal iconography :D', 'VirginAmerica This is such a great deal Already thinking about my 2nd trip to Australia &amp; I havent even gone on my 1st trip yet ;p', 'VirginAmerica virginmedia Im flying your #fabulous #Seductive skies again U take all the #stress away from travel http://tco/ahlXHhKiyn', 'VirginAmerica Thanks', 'VirginAmerica SFOPDX schedule is still MIA', 'VirginAmerica So excited for my first cross country flight LAX to MCO Ive heard nothing but great things about Virgin America #29DaysToGo', 'VirginAmerica  I flew from NYC to SFO last week and couldnt fully sit in my seat due to two large gentleman on either side of me HELP', 'I ❤️ flying VirginAmerica ☺️👍', 'VirginAmerica you know what would be amazingly awesome BOSFLL PLEASE I want to fly with only you']\n"
          ]
        }
      ]
    },
    {
      "cell_type": "code",
      "source": [
        "pip install nltk\n"
      ],
      "metadata": {
        "colab": {
          "base_uri": "https://localhost:8080/"
        },
        "id": "4cSAwRA2TqT4",
        "outputId": "8119f30f-71f9-49f3-d524-0800e43888a3"
      },
      "execution_count": 8,
      "outputs": [
        {
          "output_type": "stream",
          "name": "stdout",
          "text": [
            "Requirement already satisfied: nltk in /usr/local/lib/python3.7/dist-packages (3.2.5)\n",
            "Requirement already satisfied: six in /usr/local/lib/python3.7/dist-packages (from nltk) (1.15.0)\n"
          ]
        }
      ]
    },
    {
      "cell_type": "code",
      "source": [
        "\n",
        "import nltk\n",
        "nltk.download('averaged_perceptron_tagger')\n",
        "from nltk.corpus import stopwords\n",
        "from nltk.tokenize import word_tokenize\n",
        "from collections import Counter\n",
        "from nltk.stem import PorterStemmer\n",
        "nltk.download('stopwords')\n",
        "nltk.download('punkt')\n",
        "stop_words = set(stopwords.words('english'))\n",
        "print(stop_words)"
      ],
      "metadata": {
        "colab": {
          "base_uri": "https://localhost:8080/"
        },
        "id": "UGDnabGOR5yo",
        "outputId": "43318a4c-4571-4b8a-95cd-bc26cab6162e"
      },
      "execution_count": 9,
      "outputs": [
        {
          "output_type": "stream",
          "name": "stdout",
          "text": [
            "[nltk_data] Downloading package averaged_perceptron_tagger to\n",
            "[nltk_data]     /root/nltk_data...\n",
            "[nltk_data]   Package averaged_perceptron_tagger is already up-to-\n",
            "[nltk_data]       date!\n",
            "[nltk_data] Downloading package stopwords to /root/nltk_data...\n",
            "[nltk_data]   Package stopwords is already up-to-date!\n",
            "[nltk_data] Downloading package punkt to /root/nltk_data...\n",
            "[nltk_data]   Package punkt is already up-to-date!\n",
            "{'and', 'couldn', 'are', 'these', 'your', 'their', \"hasn't\", 'after', 'it', 'is', 'he', 'ours', 'aren', 'were', 'theirs', \"doesn't\", \"don't\", 'nor', 'above', 'had', 'being', 'few', 'have', 'was', 'more', 'out', 'during', 'as', 'itself', 'very', 'yourselves', 'with', 'no', 'which', \"needn't\", 'be', \"couldn't\", 'below', 'both', 'when', \"aren't\", 'can', \"isn't\", 'my', 'again', 'all', \"shouldn't\", 'having', 'by', 'hasn', 'until', 'm', 'if', 'any', 'don', 'that', 'up', 'do', \"shan't\", \"that'll\", 're', 'y', 'haven', 'just', 'didn', 'needn', 'than', 'through', 'down', 'but', 'why', 'between', 'how', 'in', \"mustn't\", 'those', \"haven't\", 'where', 'to', 'mightn', 'under', 'you', 'we', 'am', 'over', 'then', \"should've\", 'what', 'while', 'about', 'doesn', 'or', 'ma', 'too', 'doing', 'won', \"didn't\", \"she's\", 'himself', 'this', 'herself', 'before', 'ain', 'shouldn', \"weren't\", 'been', 'whom', 'the', 'll', 'she', 'same', 'at', 'most', 'its', \"you'll\", \"hadn't\", 'd', 'there', 'wasn', 'further', 'did', 'o', 'so', 'hadn', 'should', \"wouldn't\", 'from', 'here', 'him', \"it's\", 'on', 's', 'they', 'our', 'some', \"you're\", 't', 'an', 'off', \"mightn't\", 'into', 'not', 've', 'hers', 'such', \"you've\", 'isn', \"wasn't\", 'yours', 'weren', 'a', 'yourself', 'shan', 'ourselves', 'against', 'wouldn', 'her', 'them', 'each', 'once', 'me', 'for', 'does', 'myself', \"won't\", 'mustn', 'own', \"you'd\", 'of', 'now', 'because', 'other', 'his', 'themselves', 'only', 'has', 'who', 'i', 'will'}\n"
          ]
        }
      ]
    },
    {
      "cell_type": "code",
      "source": [
        "# tokenize words\n",
        "from nltk.tokenize import RegexpTokenizer\n",
        "tokenizer = RegexpTokenizer(r'\\w+')\n",
        "tokenized_set = []\n",
        "for (tokens) in wo_stopwords:\n",
        "    words = [e.lower() for e in tokenizer.tokenize(tokens)]\n",
        "    tokenized_set.append(words)\n",
        "print(tokenized_set[:10])"
      ],
      "metadata": {
        "colab": {
          "base_uri": "https://localhost:8080/"
        },
        "id": "dljWY-5419jg",
        "outputId": "e44d40ae-3fb8-4980-c3a8-0247b3b7128c"
      },
      "execution_count": 28,
      "outputs": [
        {
          "output_type": "stream",
          "name": "stdout",
          "text": [
            "[['virginamerica', 'what', 'dhepburn', 'said'], ['virginamerica', 'plus', 'youve', 'added', 'commercials', 'to', 'the', 'experience', 'tacky'], ['virginamerica', 'i', 'didnt', 'today', 'must', 'mean', 'i', 'need', 'to', 'take', 'another', 'trip'], ['virginamerica', 'its', 'really', 'aggressive', 'to', 'blast', 'obnoxious', 'entertainment', 'in', 'your', 'guests', 'faces', 'amp', 'they', 'have', 'little', 'recourse'], ['virginamerica', 'and', 'its', 'a', 'really', 'big', 'bad', 'thing', 'about', 'it'], ['virginamerica', 'seriously', 'would', 'pay', '30', 'a', 'flight', 'for', 'seats', 'that', 'didnt', 'have', 'this', 'playing', 'its', 'really', 'the', 'only', 'bad', 'thing', 'about', 'flying', 'va'], ['virginamerica', 'yes', 'nearly', 'every', 'time', 'i', 'fly', 'vx', 'this', 'ear', 'worm', 'won', 't', 'go', 'away'], ['virginamerica', 'really', 'missed', 'a', 'prime', 'opportunity', 'for', 'men', 'without', 'hats', 'parody', 'there', 'https', 'tco', 'mwpg7grezp'], ['virginamerica', 'well', 'i', 'didnt', 'but', 'now', 'i', 'do', 'd'], ['virginamerica', 'it', 'was', 'amazing', 'and', 'arrived', 'an', 'hour', 'early', 'youre', 'too', 'good', 'to', 'me']]\n"
          ]
        }
      ]
    },
    {
      "cell_type": "code",
      "source": [
        "# get frequency count of words\n",
        "from nltk import FreqDist\n",
        "\n",
        "for (tokens) in df:\n",
        "    words = [e.lower() for e in FreqDist(tokens)]\n",
        "    tokenized_set.append(words)\n",
        "    \n",
        "def frequent_words(df):\n",
        "    \n",
        "    lst=[]\n",
        "    for text in df.values:\n",
        "        lst+=text[0]\n",
        "    fdist=FreqDist(lst)\n",
        "    return fdist.most_common(10)\n",
        "frequent_words(df_text)\n"
      ],
      "metadata": {
        "colab": {
          "base_uri": "https://localhost:8080/"
        },
        "id": "2sOFfGRL1CPL",
        "outputId": "804cda3c-b396-4cf4-a2fe-149dfc41cbfb"
      },
      "execution_count": 14,
      "outputs": [
        {
          "output_type": "stream",
          "name": "stdout",
          "text": [
            "[['VirginAmerica', 'What', 'dhepburn', 'said'], ['VirginAmerica', 'plus', 'youve', 'added', 'commercials', 'experience', 'tacky'], ['VirginAmerica', 'I', 'didnt', 'today', 'Must', 'mean', 'I', 'need', 'take', 'another', 'trip'], ['VirginAmerica', 'really', 'aggressive', 'blast', 'obnoxious', 'entertainment', 'guests', 'faces', '&', 'amp', ';', 'little', 'recourse'], ['VirginAmerica', 'really', 'big', 'bad', 'thing'], ['VirginAmerica', 'seriously', 'would', 'pay', '30', 'flight', 'seats', 'didnt', 'playing', 'really', 'bad', 'thing', 'flying', 'VA'], ['VirginAmerica', 'yes', 'nearly', 'every', 'time', 'I', 'fly', 'VX', '“', 'ear', 'worm', '”', '’', 'go', 'away', ':'], ['VirginAmerica', 'Really', 'missed', 'prime', 'opportunity', 'Men', 'Without', 'Hats', 'parody', 'https', ':', '//tco/mWpG7grEZP'], ['virginamerica', 'Well', 'I', 'didnt…but', 'NOW', 'I', 'DO', ':', 'D'], ['VirginAmerica', 'amazing', 'arrived', 'hour', 'early', 'Youre', 'good']]\n"
          ]
        }
      ]
    },
    {
      "cell_type": "code",
      "source": [
        "ps = PorterStemmer()\n",
        "for w in tokens_without_sw:\n",
        "    print(w, \" : \", ps.stem(w))"
      ],
      "metadata": {
        "id": "Qfw96SohYS1E",
        "colab": {
          "base_uri": "https://localhost:8080/"
        },
        "outputId": "3df17e9f-21e3-4e76-d4ad-251934ee73b8"
      },
      "execution_count": 19,
      "outputs": [
        {
          "output_type": "stream",
          "name": "stdout",
          "text": [
            "VirginAmerica  :  virginamerica\n",
            "know  :  know\n",
            "would  :  would\n",
            "amazingly  :  amazingli\n",
            "awesome  :  awesom\n",
            "BOSFLL  :  bosfll\n",
            "PLEASE  :  pleas\n",
            "I  :  I\n",
            "want  :  want\n",
            "fly  :  fli\n"
          ]
        }
      ]
    },
    {
      "cell_type": "code",
      "source": [
        "for sent in tokens_without_sw:\n",
        "\t print(nltk.pos_tag(nltk.word_tokenize(sent)))"
      ],
      "metadata": {
        "colab": {
          "base_uri": "https://localhost:8080/"
        },
        "id": "BIaoCal504kz",
        "outputId": "9746778e-4100-4d7d-eb6e-2aa9139d8e93"
      },
      "execution_count": 20,
      "outputs": [
        {
          "output_type": "stream",
          "name": "stdout",
          "text": [
            "[('VirginAmerica', 'NNP')]\n",
            "[('know', 'VB')]\n",
            "[('would', 'MD')]\n",
            "[('amazingly', 'RB')]\n",
            "[('awesome', 'NN')]\n",
            "[('BOSFLL', 'NN')]\n",
            "[('PLEASE', 'VB')]\n",
            "[('I', 'PRP')]\n",
            "[('want', 'NN')]\n",
            "[('fly', 'NN')]\n"
          ]
        }
      ]
    }
  ]
}