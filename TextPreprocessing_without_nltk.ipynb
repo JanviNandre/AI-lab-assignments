{
  "nbformat": 4,
  "nbformat_minor": 0,
  "metadata": {
    "colab": {
      "name": "TextPreprocessing_without_nltk.ipynb",
      "provenance": []
    },
    "kernelspec": {
      "name": "python3",
      "display_name": "Python 3"
    },
    "language_info": {
      "name": "python"
    }
  },
  "cells": [
    {
      "cell_type": "code",
      "execution_count": null,
      "metadata": {
        "id": "91zVlPoeapJC"
      },
      "outputs": [],
      "source": [
        "stop_words = ['other', 'above', \"isn't\", \"that'll\", 'these', 'this', 'now', \"wasn't\", 'not', 'few', 'weren', 'before', 'll', 'we', 'ourselves', 'it', \"shan't\", 'their', 'all', 'yourselves', 'our', 'nor', 'mightn', 'my', 'is', 'had', 'than', \"shouldn't\", 'on', 'wasn', \"don't\", 'what', 'further', 'with', 'o', 'an', 'up', 'there', 'm', 'own', 'more', 'be', 'me', 'who', 'them', 'been', 'as', \"mightn't\", 'under', 'yours', 'over', 't', \"couldn't\", 'did', 'doesn', 'most', 'hadn', 'was', \"won't\", 'wouldn', 'his', 'were', \"hadn't\", 'hasn', 'herself', \"haven't\", \"it's\", \"wouldn't\", 'or', 'any', 'down', \"weren't\", 'him', 'won', 'because', 'how', 'am', 'very', 'do', 'once', 'from', 'in', 'by', \"aren't\", 'for', 'the', 'does', 'while', 'no', 'both', 'which', 'again', 'has', 'but', 'being', 'then', 'you', 'i', 'ours', 'shan', 'don', 'aren', 'such', 'are', 'until', 'needn', 'between', 'below', 'he', \"you're\", 'to', 'only', 'out', 'here', 'hers', 'couldn', 'theirs', 'after', 'where', 'ain', \"you'd\", 'why', 'some', 'himself', 'having', \"hasn't\", 'can', \"doesn't\", \"should've\", \"mustn't\", 'will', 'too', 'd', \"didn't\", 'her', 'its', 'ma', 'a', 'myself', 'shouldn', 'y', 'isn', 'that', 'through', 'should', 'yourself', 'itself', 'at', 'just', 'into', 'didn', \"needn't\", \"you'll\", 'two_punctpunct', 'off', \"she's\", 'your', 'whom', 'against', 'so', 's', 'have', 'and', 've', 'doing', 'of', 'haven', 'if', \"you've\", 'when', 'mustn', 'about', 'those', 'each', 'during', 'same', 'she', 'themselves', 're']"
      ]
    },
    {
      "cell_type": "code",
      "source": [
        "print(stop_words)"
      ],
      "metadata": {
        "colab": {
          "base_uri": "https://localhost:8080/"
        },
        "id": "LAa9vdtdfcqR",
        "outputId": "85b5f061-ffca-4ad0-c740-f5c89710cafd"
      },
      "execution_count": null,
      "outputs": [
        {
          "output_type": "stream",
          "name": "stdout",
          "text": [
            "['other', 'above', \"isn't\", \"that'll\", 'these', 'this', 'now', \"wasn't\", 'not', 'few', 'weren', 'before', 'll', 'we', 'ourselves', 'it', \"shan't\", 'their', 'all', 'yourselves', 'our', 'nor', 'mightn', 'my', 'is', 'had', 'than', \"shouldn't\", 'on', 'wasn', \"don't\", 'what', 'further', 'with', 'o', 'an', 'up', 'there', 'm', 'own', 'more', 'be', 'me', 'who', 'them', 'been', 'as', \"mightn't\", 'under', 'yours', 'over', 't', \"couldn't\", 'did', 'doesn', 'most', 'hadn', 'was', \"won't\", 'wouldn', 'his', 'were', \"hadn't\", 'hasn', 'herself', \"haven't\", \"it's\", \"wouldn't\", 'or', 'any', 'down', \"weren't\", 'him', 'won', 'because', 'how', 'am', 'very', 'do', 'once', 'from', 'in', 'by', \"aren't\", 'for', 'the', 'does', 'while', 'no', 'both', 'which', 'again', 'has', 'but', 'being', 'then', 'you', 'i', 'ours', 'shan', 'don', 'aren', 'such', 'are', 'until', 'needn', 'between', 'below', 'he', \"you're\", 'to', 'only', 'out', 'here', 'hers', 'couldn', 'theirs', 'after', 'where', 'ain', \"you'd\", 'why', 'some', 'himself', 'having', \"hasn't\", 'can', \"doesn't\", \"should've\", \"mustn't\", 'will', 'too', 'd', \"didn't\", 'her', 'its', 'ma', 'a', 'myself', 'shouldn', 'y', 'isn', 'that', 'through', 'should', 'yourself', 'itself', 'at', 'just', 'into', 'didn', \"needn't\", \"you'll\", 'they', 'off', \"she's\", 'your', 'whom', 'against', 'so', 's', 'have', 'and', 've', 'doing', 'of', 'haven', 'if', \"you've\", 'when', 'mustn', 'about', 'those', 'each', 'during', 'same', 'she', 'themselves', 're']\n"
          ]
        }
      ]
    },
    {
      "cell_type": "code",
      "source": [
        "# lowercase and tokenize words\n",
        "arr = []\n",
        "with open('clustering.txt','r') as file:  \n",
        "    for line in file:    \n",
        "        for word in line.split():           \n",
        "            arr.append(word.lower()) "
      ],
      "metadata": {
        "id": "DqaHnwWZbkpf"
      },
      "execution_count": null,
      "outputs": []
    },
    {
      "cell_type": "code",
      "source": [
        "print(arr)"
      ],
      "metadata": {
        "colab": {
          "base_uri": "https://localhost:8080/"
        },
        "id": "AQV9JDODdtF_",
        "outputId": "ab731e9a-f776-49fb-f819-57efe7e541b9"
      },
      "execution_count": null,
      "outputs": [
        {
          "output_type": "stream",
          "name": "stdout",
          "text": [
            "['clustering', 'falls', 'under', 'the', 'unsupervised', 'learning', 'technique.', 'in', 'this', 'technique,', 'the', 'data', 'is', 'not', 'labelled', 'and', 'there', 'is', 'no', 'defined', 'dependant', 'variable.', 'this', 'type', 'of', 'learning', 'is', 'usually', 'done', 'to', 'identify', 'patterns', 'in', 'the', 'data', 'and/or', 'to', 'group', 'similar', 'data.', 'in', 'this', 'post,', 'a', 'detailed', 'explanation', 'on', 'the', 'type', 'of', 'clustering', 'techniques', 'and', 'a', 'code', 'walk-through', 'is', 'provided.', 'clustering', 'is', 'a', 'method', 'of', 'grouping', 'of', 'similar', 'objects.', 'the', 'objective', 'of', 'clustering', 'is', 'to', 'create', 'homogeneous', 'groups', 'out', 'of', 'heterogeneous', 'observations.', 'the', 'assumption', 'is', 'that', 'the', 'data', 'comes', 'from', 'multiple', 'population,', 'for', 'example,', 'there', 'could', 'be', 'people', 'from', 'different', 'walks', 'of', 'life', 'requesting', 'loan', 'from', 'a', 'bank', 'for', 'different', 'purposes.', 'if', 'the', 'person', 'is', 'a', 'student,', 'he/she', 'could', 'ask', 'for', 'an', 'education', 'loan,', 'someone', 'who', 'is', 'looking', 'to', 'buy', 'a', 'house', 'can', 'ask', 'for', 'home', 'loan', 'and', 'so', 'on.', 'clustering', 'helps', 'to', 'identify', 'similar', 'group', 'and', 'cater', 'the', 'needs', 'better.']\n"
          ]
        }
      ]
    },
    {
      "cell_type": "code",
      "source": [
        "# remove stopwords\n",
        "array=[]\n",
        "for word in arr: \n",
        "    if word not in stop_words:\n",
        "        array.append(word)"
      ],
      "metadata": {
        "id": "gpnx_RGteNQ3"
      },
      "execution_count": null,
      "outputs": []
    },
    {
      "cell_type": "code",
      "source": [
        "print(array)"
      ],
      "metadata": {
        "colab": {
          "base_uri": "https://localhost:8080/"
        },
        "id": "VwQZ6uOzevk2",
        "outputId": "6caaeb60-ea9e-4924-c221-a1f51debca1d"
      },
      "execution_count": null,
      "outputs": [
        {
          "output_type": "stream",
          "name": "stdout",
          "text": [
            "['clustering', 'falls', 'unsupervised', 'learning', 'technique.', 'technique,', 'data', 'labelled', 'defined', 'dependant', 'variable.', 'type', 'learning', 'usually', 'done', 'identify', 'patterns', 'data', 'and/or', 'group', 'similar', 'data.', 'post,', 'detailed', 'explanation', 'type', 'clustering', 'techniques', 'code', 'walk-through', 'provided.', 'clustering', 'method', 'grouping', 'similar', 'objects.', 'objective', 'clustering', 'create', 'homogeneous', 'groups', 'heterogeneous', 'observations.', 'assumption', 'data', 'comes', 'multiple', 'population,', 'example,', 'could', 'people', 'different', 'walks', 'life', 'requesting', 'loan', 'bank', 'different', 'purposes.', 'person', 'student,', 'he/she', 'could', 'ask', 'education', 'loan,', 'someone', 'looking', 'buy', 'house', 'ask', 'home', 'loan', 'on.', 'clustering', 'helps', 'identify', 'similar', 'group', 'cater', 'needs', 'better.']\n"
          ]
        }
      ]
    },
    {
      "cell_type": "code",
      "source": [
        "# remove punctuations\n",
        "wo_punct = []\n",
        "for i in array:\n",
        "  if '.' in i:\n",
        "    c = i.replace(\".\",\"\")\n",
        "    wo_punct.append(c)\n",
        "  elif '!' in i:\n",
        "    d = i.replace(\"!\",\"\")\n",
        "    wo_punct.append(d)\n",
        "  elif '?' in i:\n",
        "    e = i.replace(\"?\",\"\")\n",
        "    wo_punct.append(e)\n",
        "  elif ',' in i:\n",
        "    f= i.replace(\",\",\"\")\n",
        "    wo_punct.append(f)\n",
        "  elif ')' in i:\n",
        "    f= i.replace(\")\",\"\")\n",
        "    wo_punct.append(f)\n",
        "  elif '(' in i:\n",
        "    f= i.replace(\"(\",\"\")\n",
        "    wo_punct.append(f)\n",
        "  else:\n",
        "    wo_punct.append(i)"
      ],
      "metadata": {
        "id": "4blRS1_Dk2Kc"
      },
      "execution_count": null,
      "outputs": []
    },
    {
      "cell_type": "code",
      "source": [
        "print(wo_punct)"
      ],
      "metadata": {
        "colab": {
          "base_uri": "https://localhost:8080/"
        },
        "id": "tzaQPo0CltAc",
        "outputId": "594a1cad-2c56-4094-9f3b-0f1d06517fc1"
      },
      "execution_count": null,
      "outputs": [
        {
          "output_type": "stream",
          "name": "stdout",
          "text": [
            "['clustering', 'falls', 'unsupervised', 'learning', 'technique', 'technique', 'data', 'labelled', 'defined', 'dependant', 'variable', 'type', 'learning', 'usually', 'done', 'identify', 'patterns', 'data', 'and/or', 'group', 'similar', 'data', 'post', 'detailed', 'explanation', 'type', 'clustering', 'techniques', 'code', 'walk-through', 'provided', 'clustering', 'method', 'grouping', 'similar', 'objects', 'objective', 'clustering', 'create', 'homogeneous', 'groups', 'heterogeneous', 'observations', 'assumption', 'data', 'comes', 'multiple', 'population', 'example', 'could', 'people', 'different', 'walks', 'life', 'requesting', 'loan', 'bank', 'different', 'purposes', 'person', 'student', 'he/she', 'could', 'ask', 'education', 'loan', 'someone', 'looking', 'buy', 'house', 'ask', 'home', 'loan', 'on', 'clustering', 'helps', 'identify', 'similar', 'group', 'cater', 'needs', 'better']\n"
          ]
        }
      ]
    },
    {
      "cell_type": "code",
      "source": [
        "print(len(wo_punct))"
      ],
      "metadata": {
        "colab": {
          "base_uri": "https://localhost:8080/"
        },
        "id": "an68_qzBfeZx",
        "outputId": "dfdf3d4c-1d93-47b2-99cc-73598e8ed007"
      },
      "execution_count": null,
      "outputs": [
        {
          "output_type": "stream",
          "name": "stdout",
          "text": [
            "82\n"
          ]
        }
      ]
    },
    {
      "cell_type": "code",
      "source": [
        "# stemming\n",
        "stemmed_words = []\n",
        "for i in wo_punct:\n",
        "  if i[-2:] == \"ed\":\n",
        "    c = i.replace(\"ed\",\"\")\n",
        "    stemmed_words.append(c)\n",
        "  elif i[-4:] == \"less\":\n",
        "    c = i.replace(\"less\",\"\")\n",
        "    stemmed_words.append(c)\n",
        "  elif i[-4:] == \"ship\":\n",
        "    c = i.replace(\"ship\",\"\")\n",
        "    wo_punct.append(c)\n",
        "  elif i[-3:] == \"ing\":\n",
        "    c = i.replace(\"ing\",\"\")\n",
        "    stemmed_words.append(c)\n",
        "  elif i[-2:] == \"es\":\n",
        "    c = i.replace(\"es\",\"\")\n",
        "    stemmed_words.append(c)\n",
        "  elif i[-1:] == \"s\":\n",
        "    c = i.replace(\"s\",\"\")\n",
        "    stemmed_words.append(c)\n",
        "  else:\n",
        "    stemmed_words.append(i)"
      ],
      "metadata": {
        "id": "OyjGz0Adn6At"
      },
      "execution_count": null,
      "outputs": []
    },
    {
      "cell_type": "code",
      "source": [
        "print(stemmed_words)"
      ],
      "metadata": {
        "colab": {
          "base_uri": "https://localhost:8080/"
        },
        "id": "o4a_27hSn4w2",
        "outputId": "3dfb5ed2-49ec-40cc-eb5f-b67e40c44a87"
      },
      "execution_count": null,
      "outputs": [
        {
          "output_type": "stream",
          "name": "stdout",
          "text": [
            "['cluster', 'fall', 'unsupervis', 'learn', 'technique', 'technique', 'data', 'labell', 'defin', 'dependant', 'variable', 'type', 'learn', 'usually', 'done', 'identify', 'pattern', 'data', 'and/or', 'group', 'similar', 'data', 'post', 'detail', 'explanation', 'type', 'cluster', 'techniqu', 'code', 'walk-through', 'provid', 'cluster', 'method', 'group', 'similar', 'object', 'objective', 'cluster', 'create', 'homogeneou', 'group', 'heterogeneou', 'obervation', 'assumption', 'data', 'com', 'multiple', 'population', 'example', 'could', 'people', 'different', 'walk', 'life', 'request', 'loan', 'bank', 'different', 'purpos', 'person', 'student', 'he/she', 'could', 'ask', 'education', 'loan', 'someone', 'look', 'buy', 'house', 'ask', 'home', 'loan', 'on', 'cluster', 'help', 'identify', 'similar', 'group', 'cater', 'need', 'better']\n"
          ]
        }
      ]
    },
    {
      "cell_type": "code",
      "source": [
        ""
      ],
      "metadata": {
        "id": "B8o5MkNrB2Rh"
      },
      "execution_count": null,
      "outputs": []
    },
    {
      "cell_type": "code",
      "source": [
        "print(len(stemmed_words))"
      ],
      "metadata": {
        "colab": {
          "base_uri": "https://localhost:8080/"
        },
        "id": "CL6305J-sP4Z",
        "outputId": "dbedfc1f-d644-40cc-b675-7d8502af0a46"
      },
      "execution_count": null,
      "outputs": [
        {
          "output_type": "stream",
          "name": "stdout",
          "text": [
            "82\n"
          ]
        }
      ]
    },
    {
      "cell_type": "code",
      "source": [
        "uniq = set(stemmed_words)"
      ],
      "metadata": {
        "id": "oVINw39OsW99"
      },
      "execution_count": null,
      "outputs": []
    },
    {
      "cell_type": "code",
      "source": [
        "print(len(uniq))"
      ],
      "metadata": {
        "colab": {
          "base_uri": "https://localhost:8080/"
        },
        "id": "LKH96MZvseKc",
        "outputId": "54427499-8df2-49d8-bb6c-4c40513d1ad9"
      },
      "execution_count": null,
      "outputs": [
        {
          "output_type": "stream",
          "name": "stdout",
          "text": [
            "61\n"
          ]
        }
      ]
    },
    {
      "cell_type": "code",
      "source": [
        "# frequenct count of words\n",
        "result_dict = dict( [ (i, stemmed_words.count(i)) for i in uniq ] )"
      ],
      "metadata": {
        "id": "EoMbfbE_ieEE"
      },
      "execution_count": null,
      "outputs": []
    },
    {
      "cell_type": "code",
      "source": [
        "result_dict"
      ],
      "metadata": {
        "colab": {
          "base_uri": "https://localhost:8080/"
        },
        "id": "op0OwC6VjP6y",
        "outputId": "479a79d6-263b-44fa-b4f1-7ab7581a05cf"
      },
      "execution_count": null,
      "outputs": [
        {
          "output_type": "execute_result",
          "data": {
            "text/plain": [
              "{'and/or': 1,\n",
              " 'ask': 2,\n",
              " 'assumption': 1,\n",
              " 'bank': 1,\n",
              " 'better': 1,\n",
              " 'buy': 1,\n",
              " 'cater': 1,\n",
              " 'cluster': 5,\n",
              " 'code': 1,\n",
              " 'com': 1,\n",
              " 'could': 2,\n",
              " 'create': 1,\n",
              " 'data': 4,\n",
              " 'defin': 1,\n",
              " 'dependant': 1,\n",
              " 'detail': 1,\n",
              " 'different': 2,\n",
              " 'done': 1,\n",
              " 'education': 1,\n",
              " 'example': 1,\n",
              " 'explanation': 1,\n",
              " 'fall': 1,\n",
              " 'group': 4,\n",
              " 'he/she': 1,\n",
              " 'help': 1,\n",
              " 'heterogeneou': 1,\n",
              " 'home': 1,\n",
              " 'homogeneou': 1,\n",
              " 'house': 1,\n",
              " 'identify': 2,\n",
              " 'labell': 1,\n",
              " 'learn': 2,\n",
              " 'life': 1,\n",
              " 'loan': 3,\n",
              " 'look': 1,\n",
              " 'method': 1,\n",
              " 'multiple': 1,\n",
              " 'need': 1,\n",
              " 'obervation': 1,\n",
              " 'object': 1,\n",
              " 'objective': 1,\n",
              " 'on': 1,\n",
              " 'pattern': 1,\n",
              " 'people': 1,\n",
              " 'person': 1,\n",
              " 'population': 1,\n",
              " 'post': 1,\n",
              " 'provid': 1,\n",
              " 'purpos': 1,\n",
              " 'request': 1,\n",
              " 'similar': 3,\n",
              " 'someone': 1,\n",
              " 'student': 1,\n",
              " 'techniqu': 1,\n",
              " 'technique': 2,\n",
              " 'type': 2,\n",
              " 'unsupervis': 1,\n",
              " 'usually': 1,\n",
              " 'variable': 1,\n",
              " 'walk': 1,\n",
              " 'walk-through': 1}"
            ]
          },
          "metadata": {},
          "execution_count": 17
        }
      ]
    },
    {
      "cell_type": "code",
      "source": [
        "# POS tagging\n",
        "import spacy\n",
        "sp = spacy.load('en_core_web_sm')\n",
        "sen = sp(u\"Parts of speech tagging simply refers to assigning parts of speech to individual words in a sentence, which means that, unlike phrase matching, which is performed at the sentence or multi-word level, parts of speech tagging is performed at the token level.\")"
      ],
      "metadata": {
        "id": "mQrexyCsnSiG"
      },
      "execution_count": null,
      "outputs": []
    },
    {
      "cell_type": "code",
      "source": [
        "sen[9].word.pos_"
      ],
      "metadata": {
        "colab": {
          "base_uri": "https://localhost:8080/",
          "height": 165
        },
        "id": "3yYz1YVyB4L2",
        "outputId": "7d9f0d7e-4486-4fdc-e4f5-9217686f0569"
      },
      "execution_count": null,
      "outputs": [
        {
          "output_type": "error",
          "ename": "AttributeError",
          "evalue": "ignored",
          "traceback": [
            "\u001b[0;31m---------------------------------------------------------------------------\u001b[0m",
            "\u001b[0;31mAttributeError\u001b[0m                            Traceback (most recent call last)",
            "\u001b[0;32m<ipython-input-4-60c9906cc5ee>\u001b[0m in \u001b[0;36m<module>\u001b[0;34m()\u001b[0m\n\u001b[0;32m----> 1\u001b[0;31m \u001b[0msen\u001b[0m\u001b[0;34m[\u001b[0m\u001b[0;36m9\u001b[0m\u001b[0;34m]\u001b[0m\u001b[0;34m.\u001b[0m\u001b[0mword\u001b[0m\u001b[0;34m.\u001b[0m\u001b[0mpos_\u001b[0m\u001b[0;34m\u001b[0m\u001b[0;34m\u001b[0m\u001b[0m\n\u001b[0m",
            "\u001b[0;31mAttributeError\u001b[0m: 'spacy.tokens.token.Token' object has no attribute 'word'"
          ]
        }
      ]
    },
    {
      "cell_type": "code",
      "source": [
        "for word in sen:\n",
        "    print(f'{word.text:{12}} {word.pos_:{10}} {word.tag_:{8}} {spacy.explain(word.tag_)}')"
      ],
      "metadata": {
        "colab": {
          "base_uri": "https://localhost:8080/"
        },
        "id": "A7ZUZhrfoR5G",
        "outputId": "bff15579-3d92-442f-c26c-b2f623d9734f"
      },
      "execution_count": null,
      "outputs": [
        {
          "output_type": "stream",
          "name": "stdout",
          "text": [
            "Parts        NOUN       NNS      noun, plural\n",
            "of           ADP        IN       conjunction, subordinating or preposition\n",
            "speech       NOUN       NN       noun, singular or mass\n",
            "tagging      NOUN       NN       noun, singular or mass\n",
            "simply       ADV        RB       adverb\n",
            "refers       VERB       VBZ      verb, 3rd person singular present\n",
            "to           ADP        IN       conjunction, subordinating or preposition\n",
            "assigning    VERB       VBG      verb, gerund or present participle\n",
            "parts        NOUN       NNS      noun, plural\n",
            "of           ADP        IN       conjunction, subordinating or preposition\n",
            "speech       NOUN       NN       noun, singular or mass\n",
            "to           ADP        IN       conjunction, subordinating or preposition\n",
            "individual   ADJ        JJ       adjective\n",
            "words        NOUN       NNS      noun, plural\n",
            "in           ADP        IN       conjunction, subordinating or preposition\n",
            "a            DET        DT       determiner\n",
            "sentence     NOUN       NN       noun, singular or mass\n",
            ",            PUNCT      ,        punctuation mark, comma\n",
            "which        DET        WDT      wh-determiner\n",
            "means        VERB       VBZ      verb, 3rd person singular present\n",
            "that         SCONJ      IN       conjunction, subordinating or preposition\n",
            ",            PUNCT      ,        punctuation mark, comma\n",
            "unlike       ADP        IN       conjunction, subordinating or preposition\n",
            "phrase       NOUN       NN       noun, singular or mass\n",
            "matching     NOUN       NN       noun, singular or mass\n",
            ",            PUNCT      ,        punctuation mark, comma\n",
            "which        DET        WDT      wh-determiner\n",
            "is           AUX        VBZ      verb, 3rd person singular present\n",
            "performed    VERB       VBN      verb, past participle\n",
            "at           ADP        IN       conjunction, subordinating or preposition\n",
            "the          DET        DT       determiner\n",
            "sentence     NOUN       NN       noun, singular or mass\n",
            "or           CCONJ      CC       conjunction, coordinating\n",
            "multi        ADJ        JJ       adjective\n",
            "-            ADJ        JJ       adjective\n",
            "word         ADJ        JJ       adjective\n",
            "level        NOUN       NN       noun, singular or mass\n",
            ",            PUNCT      ,        punctuation mark, comma\n",
            "parts        NOUN       NNS      noun, plural\n",
            "of           ADP        IN       conjunction, subordinating or preposition\n",
            "speech       NOUN       NN       noun, singular or mass\n",
            "tagging      NOUN       NN       noun, singular or mass\n",
            "is           AUX        VBZ      verb, 3rd person singular present\n",
            "performed    VERB       VBN      verb, past participle\n",
            "at           ADP        IN       conjunction, subordinating or preposition\n",
            "the          DET        DT       determiner\n",
            "token        ADJ        JJ       adjective\n",
            "level        NOUN       NN       noun, singular or mass\n",
            ".            PUNCT      .        punctuation mark, sentence closer\n"
          ]
        }
      ]
    }
  ]
}