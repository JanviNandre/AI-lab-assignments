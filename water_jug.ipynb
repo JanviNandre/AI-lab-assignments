{
  "nbformat": 4,
  "nbformat_minor": 0,
  "metadata": {
    "colab": {
      "name": "water-jug.ipynb",
      "provenance": []
    },
    "kernelspec": {
      "name": "python3",
      "display_name": "Python 3"
    },
    "language_info": {
      "name": "python"
    }
  },
  "cells": [
    {
      "cell_type": "code",
      "source": [
        "from collections import defaultdict\n",
        "import math\n",
        "jug1=int(input(\"Enter maximum capacity of jug1:\"))\n",
        "jug2=int(input(\"Enter maximum capacity of jug2:\"))\n",
        "aim=int(input(\"Enter amount of water to be measured:\"))\n",
        "visited = defaultdict(lambda: False)\n",
        "\n",
        "def waterJugSolver(amt1, amt2): \n",
        "    global nsteps\n",
        "    if (amt1 == aim and amt2 == 0) or (amt2 == aim and amt1 == 0):\n",
        "        print(amt1, amt2)\n",
        "        nsteps+=1\n",
        "        return True\n",
        "    visited[(0,0)]=True\n",
        "    if visited[(amt1, amt2)] == False:\n",
        "        print(amt1, amt2)\n",
        "        nsteps+=1\n",
        "        visited[(amt1, amt2)] = True\n",
        "\n",
        "        visited[(jug1,jug2)]= True\n",
        "        if amt2==0:\n",
        "          visited[(0,jug2)]= True\n",
        "        else:\n",
        "          visited[(jug1,0)]= True      \n",
        "        return (waterJugSolver(0, amt2) or\n",
        "                waterJugSolver(amt1, 0) or\n",
        "                waterJugSolver(jug1, amt2) or\n",
        "                waterJugSolver(amt1, jug2) or\n",
        "                waterJugSolver(amt1 + min(amt2, (jug1-amt1)), amt2 - min(amt2, (jug1-amt1))) or\n",
        "                waterJugSolver(amt1 - min(amt1, (jug2-amt2)), amt2 + min(amt1, (jug2-amt2))))\n",
        "  \n",
        "    else:\n",
        "      return False\n",
        "\n",
        "if (aim%(math.gcd(jug1,jug2)) is not 0):\n",
        "    print(\"no solution\")\n",
        "else:\n",
        "    print(\"Steps: \")\n",
        "    nsteps=0  \n",
        "    print(\"solution1\")\n",
        "    waterJugSolver(0, jug2)\n",
        "    print(f\"solution 1 has {nsteps} steps \\n\")\n",
        "    nsteps1=nsteps\n",
        "    nsteps=0\n",
        "    visited = defaultdict(lambda: False)\n",
        "    print(\"solution2\")\n",
        "    waterJugSolver(jug1,0)\n",
        "    print(f\"solution 2 has {nsteps} steps\\n\")\n",
        "    nsteps2=nsteps\n",
        "    if nsteps1 < nsteps2:\n",
        "        print(\"solution1 is optimal\")\n",
        "    else:\n",
        "        print(\"solution2 is optimal\")"
      ],
      "metadata": {
        "colab": {
          "base_uri": "https://localhost:8080/"
        },
        "id": "YKwXIoRrE9J2",
        "outputId": "63871a31-3592-4b76-c518-0f2280b5114f"
      },
      "execution_count": 6,
      "outputs": [
        {
          "output_type": "stream",
          "name": "stdout",
          "text": [
            "Enter maximum capacity of jug1:3\n",
            "Enter maximum capacity of jug2:4\n",
            "Enter amount of water to be measured:2\n",
            "Steps: \n",
            "solution1\n",
            "0 4\n",
            "3 1\n",
            "0 1\n",
            "1 0\n",
            "1 4\n",
            "3 2\n",
            "0 2\n",
            "solution 1 has 7 steps \n",
            "\n",
            "solution2\n",
            "3 0\n",
            "0 3\n",
            "3 3\n",
            "2 4\n",
            "2 0\n",
            "solution 2 has 5 steps\n",
            "\n",
            "solution2 is optimal\n"
          ]
        }
      ]
    }
  ]
}